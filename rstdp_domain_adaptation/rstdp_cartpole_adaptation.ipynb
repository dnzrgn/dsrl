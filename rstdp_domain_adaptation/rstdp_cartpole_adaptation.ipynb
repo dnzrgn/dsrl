{
 "cells": [
  {
   "cell_type": "markdown",
   "id": "fef2e3ee",
   "metadata": {},
   "source": [
    "# RSTDP domain adaptation of pre-trained agents for modified CartPole environments"
   ]
  },
  {
   "cell_type": "code",
   "execution_count": 19,
   "id": "084483bc",
   "metadata": {},
   "outputs": [],
   "source": [
    "import os\n",
    "from datetime import date\n",
    "\n",
    "import numpy as np\n",
    "import torch\n",
    "import torch.optim as optim\n",
    "import random\n",
    "import gym\n",
    "import matplotlib.pyplot as plt\n",
    "from copy import deepcopy\n",
    "\n",
    "from utils import evaluate_policy, rstdp_train_cartpole\n",
    "\n",
    "import site\n",
    "site.addsitedir('../src/')\n",
    "\n",
    "from dsnn import RSTDPNet\n",
    "\n",
    "%matplotlib inline"
   ]
  },
  {
   "cell_type": "code",
   "execution_count": 20,
   "id": "ab71a941",
   "metadata": {},
   "outputs": [],
   "source": [
    "device = torch.device(\"cuda:0\" if torch.cuda.is_available() else \"cpu\")\n",
    "dtype = torch.float"
   ]
  },
  {
   "cell_type": "code",
   "execution_count": 3,
   "id": "7deedd78",
   "metadata": {},
   "outputs": [],
   "source": [
    "# Environment specific parameters\n",
    "env_name = 'CartPole-v0'\n",
    "max_reward = 200\n",
    "max_steps = 200\n",
    "\n",
    "n_evaluations = 2\n",
    "rstdp_episodes = 2"
   ]
  },
  {
   "cell_type": "code",
   "execution_count": 4,
   "id": "ac8cbe74",
   "metadata": {},
   "outputs": [],
   "source": [
    "# Create environments\n",
    "original_env = gym.make(env_name)\n",
    "\n",
    "modified_env = gym.make(env_name)\n",
    "modified_env.unwrapped.length *= 1.5"
   ]
  },
  {
   "cell_type": "code",
   "execution_count": 5,
   "id": "94627454",
   "metadata": {},
   "outputs": [],
   "source": [
    "# SNN Hyperparameters\n",
    "simulation_time = 8\n",
    "alpha = 0.8\n",
    "beta = 0.8\n",
    "threshold = 0.5\n",
    "weight_scale = 1\n",
    "architecture = [8, 64, 64, 2]"
   ]
  },
  {
   "cell_type": "code",
   "execution_count": 6,
   "id": "955f4b15",
   "metadata": {},
   "outputs": [],
   "source": [
    "# RSTDP Hyperparameters\n",
    "tau = 5\n",
    "tau_e = 10\n",
    "C = 0.01\n",
    "# A+/- are calculated from the pre-trained network weights"
   ]
  },
  {
   "cell_type": "code",
   "execution_count": 7,
   "id": "541f666b",
   "metadata": {},
   "outputs": [],
   "source": [
    "evaluation_seeds = np.load('../seeds/evaluation_seeds.npy')\n",
    "rstdp_seeds = np.load('../seeds/rstdp_training_seeds.npy')"
   ]
  },
  {
   "cell_type": "code",
   "execution_count": 18,
   "id": "10da94f2",
   "metadata": {},
   "outputs": [],
   "source": [
    "# Load pre-trained model weights\n",
    "weights_0 = torch.load('pretrained_models/cartpole/checkpoint_DSQN_0.pt', map_location=torch.device(device))\n",
    "weights_1 = torch.load('pretrained_models/cartpole/checkpoint_DSQN_1.pt', map_location=torch.device(device))\n",
    "weights_2 = torch.load('pretrained_models/cartpole/checkpoint_DSQN_2.pt', map_location=torch.device(device))\n",
    "weights = [weights_0, weights_1, weights_2]"
   ]
  },
  {
   "cell_type": "code",
   "execution_count": 9,
   "id": "cafb7b6a",
   "metadata": {},
   "outputs": [],
   "source": [
    "# Helper for printing\n",
    "eraser = '\\b \\b'"
   ]
  },
  {
   "cell_type": "markdown",
   "id": "185ee721",
   "metadata": {},
   "source": [
    "### Evaluate pre-trained models on original environment"
   ]
  },
  {
   "cell_type": "code",
   "execution_count": 10,
   "id": "28f2b5b7",
   "metadata": {},
   "outputs": [
    {
     "name": "stdout",
     "output_type": "stream",
     "text": [
      "Run 00 -> Avg reward:  200.00\n",
      "Run 01 -> Avg reward:  200.00\n",
      "Run 02 -> Avg reward:  200.00\n"
     ]
    }
   ],
   "source": [
    "original_eval_rewards = []\n",
    "\n",
    "for i, w in enumerate(weights):\n",
    "    print('Run {:02d} ...'.format(i), end='')\n",
    "    policy_net = RSTDPNet(alpha, beta, threshold, architecture, simulation_time, w, \n",
    "                                  device=device, dtype=dtype)\n",
    "    rewards = evaluate_policy(policy_net, original_env, n_evaluations, evaluation_seeds)\n",
    "    original_eval_rewards.append(rewards)\n",
    "    print(eraser*3 + '-> Avg reward: {:7.2f}'.format(np.mean(rewards)))"
   ]
  },
  {
   "cell_type": "code",
   "execution_count": 11,
   "id": "c0c40289",
   "metadata": {},
   "outputs": [
    {
     "data": {
      "image/png": "[encoded data removed]",
      "text/plain": [
       "<Figure size 1152x288 with 1 Axes>"
      ]
     },
     "metadata": {
      "needs_background": "light"
     },
     "output_type": "display_data"
    }
   ],
   "source": [
    "plt.figure(figsize=(16, 4))\n",
    "\n",
    "for i, oer in enumerate(original_eval_rewards):\n",
    "    plt.plot(oer, label='Run {:02d}'.format(i))\n",
    "\n",
    "plt.legend()\n",
    "plt.grid()\n",
    "plt.show()"
   ]
  },
  {
   "cell_type": "markdown",
   "id": "c811342f",
   "metadata": {},
   "source": [
    "### Evaluate pre-trained models on modified environment"
   ]
  },
  {
   "cell_type": "code",
   "execution_count": 13,
   "id": "c835c189",
   "metadata": {},
   "outputs": [
    {
     "name": "stdout",
     "output_type": "stream",
     "text": [
      "Run 00 -> Avg reward:  200.00\n",
      "Run 01 -> Avg reward:  200.00\n",
      "Run 02 -> Avg reward:  147.50\n"
     ]
    }
   ],
   "source": [
    "modified_env_eval_rewards = []\n",
    "\n",
    "for i, w in enumerate(weights):\n",
    "    print('Run {:02d} ...'.format(i), end='')\n",
    "    policy_net = RSTDPNet(alpha, beta, threshold, architecture, simulation_time, w,\n",
    "                                  device=device, dtype=dtype)\n",
    "    rewards = evaluate_policy(policy_net, modified_env, n_evaluations, evaluation_seeds)\n",
    "    modified_env_eval_rewards.append(rewards)\n",
    "    print(eraser*3 + '-> Avg reward: {:7.2f}'.format(np.mean(rewards)))"
   ]
  },
  {
   "cell_type": "code",
   "execution_count": 14,
   "id": "90edc465",
   "metadata": {},
   "outputs": [
    {
     "data": {
      "image/png": "[encoded data removed]",
      "text/plain": [
       "<Figure size 1152x288 with 1 Axes>"
      ]
     },
     "metadata": {
      "needs_background": "light"
     },
     "output_type": "display_data"
    }
   ],
   "source": [
    "plt.figure(figsize=(16, 4))\n",
    "\n",
    "for i, meer in enumerate(modified_env_eval_rewards):\n",
    "    plt.plot(meer, label='Run {:02d}'.format(i))\n",
    "\n",
    "plt.legend()\n",
    "plt.grid()\n",
    "plt.show()"
   ]
  },
  {
   "cell_type": "markdown",
   "id": "fbd4678c",
   "metadata": {},
   "source": [
    "### RSTDP Adaptation"
   ]
  },
  {
   "cell_type": "code",
   "execution_count": 15,
   "id": "5f9bfabb",
   "metadata": {},
   "outputs": [
    {
     "name": "stdout",
     "output_type": "stream",
     "text": [
      "Episode:    1 -- Reward:  200.00 -- Best reward:  142.00 in episode    0\n",
      "Best individual stored after episode 1 with reward 200.00\n",
      "\n",
      "Episode:    0 -- Reward:  200.00 -- Best reward:    -inf in episode   -1\n",
      "Best individual stored after episode 0 with reward 200.00\n",
      "\n",
      "Episode:    1 -- Reward:  147.50 -- Best reward:  147.50 in episode    0\n",
      "Best individual stored after episode 0 with reward 147.50\n",
      "\n"
     ]
    }
   ],
   "source": [
    "rstdp_adaptation_rewards = []\n",
    "adapted_weights_collection = []\n",
    "\n",
    "for i, w in enumerate(weights):\n",
    "    w_plus = deepcopy(w[0][1])\n",
    "    w_minus = deepcopy(w[0][1])\n",
    "    w_plus[w_plus < 0] = 0\n",
    "    w_minus[w_minus > 0] = 0\n",
    "    A_plus = torch.mean(w_plus)\n",
    "    A_minus = torch.abs(torch.mean(w_minus))\n",
    "    \n",
    "    policy_net = RSTDPNet(alpha, beta, threshold, architecture, simulation_time, w, \n",
    "                                  tau, tau_e, A_plus, A_minus, C, \n",
    "                                  device=device, dtype=dtype)\n",
    "    \n",
    "    adapted_weights, rewards = rstdp_train_cartpole(policy_net, modified_env, max_reward, rstdp_episodes, \n",
    "                                                 n_evaluations, max_steps, rstdp_seeds, evaluation_seeds)\n",
    "    \n",
    "    rstdp_adaptation_rewards.append(rewards)\n",
    "    adapted_weights_collection.append(adapted_weights)\n",
    "    \n",
    "adapted_weights_collection = [(list(aw.values()), []) for aw in adapted_weights_collection]"
   ]
  },
  {
   "cell_type": "markdown",
   "id": "585101eb",
   "metadata": {},
   "source": [
    "### Evaluate adapted models on modified environment"
   ]
  },
  {
   "cell_type": "code",
   "execution_count": 16,
   "id": "6640b7d6",
   "metadata": {},
   "outputs": [
    {
     "name": "stdout",
     "output_type": "stream",
     "text": [
      "Run 00 -> Avg reward:  200.00\n",
      "Run 01 -> Avg reward:  200.00\n",
      "Run 02 -> Avg reward:  147.50\n"
     ]
    }
   ],
   "source": [
    "adapted_eval_rewards = []\n",
    "\n",
    "for i, w in enumerate(adapted_weights_collection):\n",
    "    print('Run {:02d} ...'.format(i), end='')\n",
    "    policy_net = RSTDPNet(alpha, beta, threshold, architecture, simulation_time, w,\n",
    "                                  device=device, dtype=dtype)\n",
    "    rewards = evaluate_policy(policy_net, modified_env, n_evaluations, evaluation_seeds)\n",
    "    adapted_eval_rewards.append(rewards)\n",
    "    print(eraser*3 + '-> Avg reward: {:7.2f}'.format(np.mean(rewards)))"
   ]
  },
  {
   "cell_type": "code",
   "execution_count": 17,
   "id": "2231eb92",
   "metadata": {},
   "outputs": [
    {
     "data": {
      "image/png": "[encoded data removed]",
      "text/plain": [
       "<Figure size 1152x288 with 1 Axes>"
      ]
     },
     "metadata": {
      "needs_background": "light"
     },
     "output_type": "display_data"
    }
   ],
   "source": [
    "plt.figure(figsize=(16, 4))\n",
    "\n",
    "for i, aer in enumerate(adapted_eval_rewards):\n",
    "    plt.plot(aer, label='Run {:02d}'.format(i))\n",
    "\n",
    "plt.legend()\n",
    "plt.grid()\n",
    "plt.show()"
   ]
  }
 ],
 "metadata": {
  "kernelspec": {
   "display_name": "Python 3 (ipykernel)",
   "language": "python",
   "name": "python3"
  },
  "language_info": {
   "codemirror_mode": {
    "name": "ipython",
    "version": 3
   },
   "file_extension": ".py",
   "mimetype": "text/x-python",
   "name": "python",
   "nbconvert_exporter": "python",
   "pygments_lexer": "ipython3",
   "version": "3.8.12"
  }
 },
 "nbformat": 4,
 "nbformat_minor": 5
}
